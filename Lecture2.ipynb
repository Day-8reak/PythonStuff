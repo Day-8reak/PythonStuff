{
 "cells": [
  {
   "cell_type": "code",
   "execution_count": 3,
   "id": "8f587266-9caf-4d0c-9ccc-d52f1372d9d4",
   "metadata": {},
   "outputs": [
    {
     "ename": "ModuleNotFoundError",
     "evalue": "No module named 'matplotlib'",
     "output_type": "error",
     "traceback": [
      "\u001b[1;31m---------------------------------------------------------------------------\u001b[0m",
      "\u001b[1;31mModuleNotFoundError\u001b[0m                       Traceback (most recent call last)",
      "Cell \u001b[1;32mIn[3], line 3\u001b[0m\n\u001b[0;32m      1\u001b[0m \u001b[38;5;28;01mimport\u001b[39;00m\u001b[38;5;250m \u001b[39m\u001b[38;5;21;01mrandom\u001b[39;00m\n\u001b[0;32m      2\u001b[0m \u001b[38;5;28;01mimport\u001b[39;00m\u001b[38;5;250m \u001b[39m\u001b[38;5;21;01mtimeit\u001b[39;00m\n\u001b[1;32m----> 3\u001b[0m \u001b[38;5;28;01mimport\u001b[39;00m\u001b[38;5;250m \u001b[39m\u001b[38;5;21;01mmatplotlib\u001b[39;00m\u001b[38;5;21;01m.\u001b[39;00m\u001b[38;5;21;01mpyplot\u001b[39;00m\u001b[38;5;250m \u001b[39m\u001b[38;5;28;01mas\u001b[39;00m\u001b[38;5;250m \u001b[39m\u001b[38;5;21;01mplt\u001b[39;00m\n\u001b[0;32m      4\u001b[0m \u001b[38;5;28;01mimport\u001b[39;00m\u001b[38;5;250m \u001b[39m\u001b[38;5;21;01mnumpy\u001b[39;00m\u001b[38;5;250m \u001b[39m\u001b[38;5;28;01mas\u001b[39;00m\u001b[38;5;250m \u001b[39m\u001b[38;5;21;01mnp\u001b[39;00m\n",
      "\u001b[1;31mModuleNotFoundError\u001b[0m: No module named 'matplotlib'"
     ]
    }
   ],
   "source": [
    "import random\n",
    "import timeit\n",
    "import matplotlib.pyplot as plt\n",
    "import numpy as np\n",
    "import cProfile"
   ]
  },
  {
   "cell_type": "code",
   "execution_count": 2,
   "id": "8c5279d1-585d-406c-822c-439b78264ddc",
   "metadata": {},
   "outputs": [
    {
     "data": {
      "text/plain": [
       "[0, 1, 2, 3, 4, 5, 6, 7, 8, 9]"
      ]
     },
     "execution_count": 2,
     "metadata": {},
     "output_type": "execute_result"
    }
   ],
   "source": [
    "# creating a list of items:\n",
    "L = [i for i in range(10)]\n",
    "L"
   ]
  },
  {
   "cell_type": "code",
   "execution_count": 1,
   "id": "9d494981-d305-4d53-8ee8-6817019abc4b",
   "metadata": {},
   "outputs": [
    {
     "data": {
      "text/plain": [
       "[0, 1, 2, 3, 4, 5, 6, 7, 8, 9]"
      ]
     },
     "execution_count": 1,
     "metadata": {},
     "output_type": "execute_result"
    }
   ],
   "source": [
    "L = []\n",
    "for i  in range(10):\n",
    "        L.append(i)\n",
    "L"
   ]
  },
  {
   "cell_type": "code",
   "execution_count": 4,
   "id": "017760f3-9c86-499b-bab0-d9ba9f575ae7",
   "metadata": {},
   "outputs": [
    {
     "data": {
      "text/plain": [
       "61482.3738462"
      ]
     },
     "execution_count": 4,
     "metadata": {},
     "output_type": "execute_result"
    }
   ],
   "source": [
    "timeit.default_timer()"
   ]
  },
  {
   "cell_type": "code",
   "execution_count": 6,
   "id": "0a38f2be-0a54-478e-8e3e-dabb5baeab94",
   "metadata": {},
   "outputs": [
    {
     "name": "stdout",
     "output_type": "stream",
     "text": [
      "Time taken:  0.00032979999377857894\n"
     ]
    }
   ],
   "source": [
    "start = timeit.default_timer()\n",
    "\n",
    "L = []\n",
    "for i in range(10):\n",
    "        L.append(i)\n",
    "stop = timeit.default_timer()\n",
    "print(\"Time taken: \", stop-start)\n",
    "# the time taken is different because of all of the factors of your computer\n",
    "# that go into running a python program"
   ]
  },
  {
   "cell_type": "code",
   "execution_count": 8,
   "id": "2e46d65f-dc44-4712-95f2-467cafc03d79",
   "metadata": {},
   "outputs": [
    {
     "ename": "NameError",
     "evalue": "name 'cProfile' is not defined",
     "output_type": "error",
     "traceback": [
      "\u001b[1;31m---------------------------------------------------------------------------\u001b[0m",
      "\u001b[1;31mNameError\u001b[0m                                 Traceback (most recent call last)",
      "Cell \u001b[1;32mIn[8], line 2\u001b[0m\n\u001b[0;32m      1\u001b[0m \u001b[38;5;66;03m# profiler does something very similar ot timer:\u001b[39;00m\n\u001b[1;32m----> 2\u001b[0m pr \u001b[38;5;241m=\u001b[39m \u001b[43mcProfile\u001b[49m\u001b[38;5;241m.\u001b[39mProfile()\n\u001b[0;32m      4\u001b[0m pr\u001b[38;5;241m.\u001b[39menable()\n\u001b[0;32m      6\u001b[0m L \u001b[38;5;241m=\u001b[39m []\n",
      "\u001b[1;31mNameError\u001b[0m: name 'cProfile' is not defined"
     ]
    }
   ],
   "source": [
    "# profiler does something very similar ot timer:\n",
    "pr = cProfile.Profile()\n",
    "\n",
    "pr.enable()\n",
    "\n",
    "L = []\n",
    "for i in range(100000):\n",
    "    L.append(i)\n",
    "pr.disable()\n",
    "pr.print_stats()\n",
    "\n",
    "\n"
   ]
  },
  {
   "cell_type": "code",
   "execution_count": null,
   "id": "081a6b90-203a-4ddf-9710-411049217c0b",
   "metadata": {},
   "outputs": [],
   "source": [
    "# must make sure not to hardcode the expected return values\n",
    "#\n",
    "random.randint(0, 10)\n"
   ]
  },
  {
   "cell_type": "code",
   "execution_count": null,
   "id": "7a7bae48-dccf-4070-b1bc-983b7f993fe7",
   "metadata": {},
   "outputs": [],
   "source": [
    "def create_list(length, max_value):\n",
    "    return [random.randint(0, max_value) for i in range(length)]\n",
    "    L.append(99)\n",
    "    return L\n",
    "\n",
    "create_list(10, 100)"
   ]
  },
  {
   "cell_type": "code",
   "execution_count": null,
   "id": "e24d3e43-ad4e-4cf2-8f4e-339fb7e0311d",
   "metadata": {},
   "outputs": [],
   "source": [
    "def linear_search(itemList, to_find):\n",
    "    for i in itemList:\n",
    "        if i == to_find:\n",
    "            return True\n",
    "    return False"
   ]
  },
  {
   "cell_type": "code",
   "execution_count": 9,
   "id": "e7e123f9-8d69-48ef-86b0-2c536cea7b3d",
   "metadata": {},
   "outputs": [
    {
     "ename": "NameError",
     "evalue": "name 'linear_search' is not defined",
     "output_type": "error",
     "traceback": [
      "\u001b[1;31m---------------------------------------------------------------------------\u001b[0m",
      "\u001b[1;31mNameError\u001b[0m                                 Traceback (most recent call last)",
      "Cell \u001b[1;32mIn[9], line 1\u001b[0m\n\u001b[1;32m----> 1\u001b[0m \u001b[43mlinear_search\u001b[49m(L, \u001b[38;5;241m99\u001b[39m)\n\u001b[0;32m      2\u001b[0m linear_search(L, \u001b[38;5;241m1\u001b[39m)\n",
      "\u001b[1;31mNameError\u001b[0m: name 'linear_search' is not defined"
     ]
    }
   ],
   "source": [
    "linear_search(L, 99)\n",
    "linear_search(L, 1)"
   ]
  },
  {
   "cell_type": "code",
   "execution_count": null,
   "id": "09daad04-1a65-46f3-91c7-436ba93faac6",
   "metadata": {},
   "outputs": [],
   "source": []
  }
 ],
 "metadata": {
  "kernelspec": {
   "display_name": "Python 3 (ipykernel)",
   "language": "python",
   "name": "python3"
  },
  "language_info": {
   "codemirror_mode": {
    "name": "ipython",
    "version": 3
   },
   "file_extension": ".py",
   "mimetype": "text/x-python",
   "name": "python",
   "nbconvert_exporter": "python",
   "pygments_lexer": "ipython3",
   "version": "3.11.5"
  }
 },
 "nbformat": 4,
 "nbformat_minor": 5
}
